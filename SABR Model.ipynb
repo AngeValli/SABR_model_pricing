{
 "cells": [
  {
   "attachments": {},
   "cell_type": "markdown",
   "metadata": {},
   "source": [
    "<a target=\"_blank\" href=\"https://drive.google.com/drive/folders/16pelTEYHJ_WwV7I5b9tPgzC3rMVXFDMy?usp=sharing\">\n",
    "  <img src=\"https://colab.research.google.com/assets/colab-badge.svg\" alt=\"Open In Colab\"/>\n",
    "</a>"
   ]
  },
  {
   "attachments": {},
   "cell_type": "markdown",
   "metadata": {
    "id": "3zhRXX7BiIqh"
   },
   "source": [
    "This notebook follows the study of [Managing Risk Smile](https://www.researchgate.net/publication/235622441_Managing_Smile_Risk) to show the advantages and drawbacks of SABR model approach and compute a comparison with Monte-Carlo simulations for European options pricing. This model is compared with SABR Model pricing using Black-Scholes European options pricing."
   ]
  },
  {
   "attachments": {},
   "cell_type": "markdown",
   "metadata": {
    "id": "J2oPaIeMzl-C"
   },
   "source": [
    "# Imports"
   ]
  },
  {
   "cell_type": "code",
   "execution_count": 1,
   "metadata": {
    "executionInfo": {
     "elapsed": 223,
     "status": "ok",
     "timestamp": 1687642329121,
     "user": {
      "displayName": "Ange VALLI",
      "userId": "07174695979630093145"
     },
     "user_tz": -120
    },
    "id": "7mGVgEBhzo0C"
   },
   "outputs": [],
   "source": [
    "import datetime as dt\n",
    "from typing import List\n",
    "\n",
    "import math\n",
    "import matplotlib.pyplot as plt\n",
    "import numpy as np\n",
    "import random\n",
    "from scipy.stats import norm"
   ]
  },
  {
   "cell_type": "code",
   "execution_count": 2,
   "metadata": {},
   "outputs": [],
   "source": [
    "import utility_scripts.reference_data as reference_data\n",
    "from utility_scripts.Pricers.BlackEuropeanOptionsPricers import BlackEuropeanPricing\n",
    "from utility_scripts.Pricers.MonteCarloSimulations import European_Call_Payoff, European_Put_Payoff, \\\n",
    "GeometricBrownianMotion\n",
    "from utility_scripts.Implied_Volatility.SABRImpliedVolatilities import SABR_ATMVol, SABR_ImpliedVol"
   ]
  },
  {
   "attachments": {},
   "cell_type": "markdown",
   "metadata": {
    "id": "z8bf8OJcrtSL"
   },
   "source": [
    "# Part I : Study of volatility smile"
   ]
  },
  {
   "attachments": {},
   "cell_type": "markdown",
   "metadata": {
    "id": "NWjdkyEJprCf"
   },
   "source": [
    "The first part of this notebook gives an illustration on how SABR parameters can affect the volatility smile phenomenon. The model is given by :\n",
    "\n",
    "$$d\\hat{F} = \\hat{\\alpha}\\hat{F}^{\\beta} dW_1 \\text{,} \\quad \\hat{F}(0) = f \\\\\n",
    "d\\hat{\\alpha} = \\nu\\hat{\\alpha} dW_2 \\text{,} \\quad \\hat{\\alpha}(0) = \\alpha$$\n",
    "\n",
    "We call $t_{ex}$ the exercise date. The parameters of the models are :\n",
    "\n",
    "$\\alpha$ : The initial volatility term for the diffusion of the stochastic volatility process $\\hat{\\alpha}$\n",
    "\n",
    "$\\beta$ : The backbone term\n",
    "\n",
    "$\\rho$ : The correlation factor between the two brownian motions $dW_1$ and $dW_2$ such as $dW_1dW_2 = \\rho dt$\n",
    "\n",
    "$\\nu$ : The volatility of volatility, \"volvol\" term"
   ]
  },
  {
   "attachments": {},
   "cell_type": "markdown",
   "metadata": {
    "id": "kq4Tp4jtis-r"
   },
   "source": [
    "We also define $\\sigma_{ATM}$ the At-The-Money implied volatility. This approach is based on approximated formula for implicit volatility given in the article, at (3.1a) and (3.1b).\n",
    "\n",
    "$$\n",
    "\\begin{aligned}\n",
    "\\sigma_B(K, f) = \\frac{\\alpha} {f^{1-\\beta}}\\{1-\\frac{1}{2}(1-\\beta-\\rho \\lambda) \\log{\\frac{K}{f}} + \\frac{1}{12}\\left[(1-\\beta)^2+\\left(2-3 \\rho^2\\right) \\lambda^2\\right] \\log ^2{\\frac{K}{f}} + \\cdots\n",
    "\\end{aligned}\n",
    "$$\n",
    "\n",
    "with $\\lambda = \\frac{\\nu}{\\alpha} f^{1-\\beta}$ which measures the strength of $\\nu$ compared to the local volatility $\\frac{\\alpha}{f^{1-\\beta}} $ at the current forward.\n",
    "\n",
    "We want to reproduce the phenomenons observed for Figure 3.1 and Figure 3.2 shown below :\n",
    "\n",
    "<p align=\"center\">\n",
    "  <img src=\"./Implied_vol_beta_0.JPG\" />\n",
    "</p>\n",
    "\n",
    "<p align=\"center\">\n",
    "  <img src=\"./Implied_vol_beta_1.JPG\" />\n",
    "</p>\n",
    "\n",
    "The dashed curve represents the _backbone_, which is the curve of the ATM volatility, which is given by (2.18) :\n",
    "\n",
    "$$\\begin{aligned}\n",
    "\\sigma_{ATM} = \\sigma_B(f, f) = \\frac{\\alpha}{f^{1-\\beta}} \\Biggl\\{1 + \\Biggl[ \\frac{(1-\\beta)^2}{24} \\frac{\\alpha^2}{f^{2-2\\beta}} + \\frac{1}{4} \\frac{\\rho \\beta \\alpha \\nu}{f^{1-\\beta}} + \\frac{2-3\\rho^2}{24}\\nu^2 \\Bigl]t_{ex} + \\cdots\n",
    "\\end{aligned}$$\n",
    "\n",
    "We will consider the $\\cdots$ terms in the development as negligible compared to the first terms."
   ]
  },
  {
   "cell_type": "code",
   "execution_count": 3,
   "metadata": {
    "executionInfo": {
     "elapsed": 1,
     "status": "ok",
     "timestamp": 1687642334154,
     "user": {
      "displayName": "Ange VALLI",
      "userId": "07174695979630093145"
     },
     "user_tz": -120
    },
    "id": "n2YJLLh-u1sY"
   },
   "outputs": [],
   "source": [
    "# Forward prices range\n",
    "forward_prices: List[float] = np.arange(0.04,0.12,0.01)"
   ]
  },
  {
   "cell_type": "code",
   "execution_count": 4,
   "metadata": {
    "executionInfo": {
     "elapsed": 2,
     "status": "ok",
     "timestamp": 1687642336876,
     "user": {
      "displayName": "Ange VALLI",
      "userId": "07174695979630093145"
     },
     "user_tz": -120
    },
    "id": "u7bJSCwj1rPw"
   },
   "outputs": [
    {
     "name": "stdout",
     "output_type": "stream",
     "text": [
      "0.20970442708333334\n"
     ]
    }
   ],
   "source": [
    "# ATM value from reference data\n",
    "reference_SABR = SABR_ATMVol()\n",
    "eps: float = .01\n",
    "assert np.abs(reference_data.atm_vol - reference_SABR.ATM_Implied_Vol()) < eps\n",
    "print(reference_SABR.ATM_Implied_Vol())"
   ]
  },
  {
   "attachments": {},
   "cell_type": "markdown",
   "metadata": {
    "id": "5CSuaHER5JU-"
   },
   "source": [
    "We compute the values for the curves to recover the Figures 3.1 and 3.2"
   ]
  },
  {
   "cell_type": "code",
   "execution_count": 5,
   "metadata": {},
   "outputs": [],
   "source": [
    "def plot_figs(strikes: List[float], f: float = reference_data.forward, alpha: float = reference_data.alpha,\n",
    "    beta: float = reference_data.beta, rho: float = reference_data.rho, nu: float = reference_data.vol_of_vol,\n",
    "    t_ex: float = reference_data.maturity):\n",
    "    implied_vols = [SABR_ImpliedVol(K=strike, f=f, alpha=alpha, beta=beta, rho=rho, nu=nu, t_ex=t_ex)\n",
    "                    for strike in strikes]\n",
    "    implied_vols[0].display_ATM(forward_prices=strikes) # Same ATM curve for all strikes\n",
    "    for implied_vol in implied_vols:\n",
    "        implied_vol.display_ImpliedVol(strikes=strikes, figure=True)\n",
    "    plt.legend()\n",
    "    plt.show()"
   ]
  },
  {
   "cell_type": "code",
   "execution_count": 6,
   "metadata": {},
   "outputs": [
    {
     "data": {
      "image/png": "[encoded data removed]",
      "text/plain": [
       "<Figure size 640x480 with 1 Axes>"
      ]
     },
     "metadata": {},
     "output_type": "display_data"
    },
    {
     "data": {
      "image/png": "[encoded data removed]",
      "text/plain": [
       "<Figure size 640x480 with 1 Axes>"
      ]
     },
     "metadata": {},
     "output_type": "display_data"
    }
   ],
   "source": [
    "# Strikes range\n",
    "strikes: List[float] = np.arange(0.04,0.12,0.01)\n",
    "plot_figs(strikes=strikes, beta=0)\n",
    "plot_figs(strikes=strikes, beta=1)"
   ]
  },
  {
   "attachments": {},
   "cell_type": "markdown",
   "metadata": {
    "id": "1HLpERRbX4TW"
   },
   "source": [
    "The curves are representative of the results presented in the paper, as for $\\beta$ values of 0 and 1 the SABR model represents respectively a stochastic normal model and stochastic log normal model. To study the influence of the parameters, we can look at the specific role of each component of $\\sigma_B(K, f)$ formula."
   ]
  },
  {
   "attachments": {},
   "cell_type": "markdown",
   "metadata": {
    "id": "t_IIxQXTe4WC"
   },
   "source": [
    "* $\\frac{\\alpha}{f^{1-\\beta}}$ is the implied volatility for at-the-money (ATM) options, so options whose strike $K$ equals the current forward $f$. It is responsible to determine almost entirely the _backbone_. As shown before, $\\beta = 0$ gives a steeply downward sloping backbone and $\\beta=1$ gives a nearly flat backbone.\n",
    "\n",
    "* $-\\frac{1}{2}(1-\\beta-\\rho\\lambda)\\log(\\frac{K}{f})$ represents the skew, the slope of the implied volatility with respect to the strike $K$ :\n",
    "  * $-\\frac{1}{2} (1-\\beta)\\log(\\frac{K}{f})$ is the _beta skew_, which is downward sloping as $0 \\leq \\beta \\leq 1$. It arises because the term of \"local volatility\" $\\frac{\\hat{\\alpha}}{F^{1-\\beta}}$ is a decreasing function of the forward price.\n",
    "  * $-\\frac{1}{2}\\rho\\lambda\\log(\\frac{K}{f})$ is the _vanna skew_ caused by correlation between the volatility and asset price. This correlation is negative as volatility $\\alpha$ decreases as forward $f$ increases.\n",
    "\n",
    "* The second part of the expression $\\frac{1}{12}[(1-\\beta)^2 + (2-3\\rho^3)\\lambda^2] \\log^2 \\bigl( \\frac{K}{f} \\bigl)$ can also be decomposed into two parts.\n",
    "  * $\\frac{1}{12}(1-\\beta)^2\\log^2 \\bigl( \\frac{K}{f} \\bigl)$ is a smile quadratic term but is dominated by the downward sloping beta skew, so it has an influence for reasonable strikes $K$\n",
    "  * $\\frac{1}{12}(2-3\\rho^3)\\lambda^2\\log^2 \\bigl( \\frac{K}{f} \\bigl)$ is the _volga_ (vol-gamma) effect. It represents the rise of the smile when unusual large movements of the forward $\\hat{F}$ happen, which is more often when the volatility $\\alpha$ increases and less often which it decreases. It causes the strikes $K$ far from the money to be, on average, more representative of high volatility environments."
   ]
  },
  {
   "attachments": {},
   "cell_type": "markdown",
   "metadata": {},
   "source": [
    "# Densities"
   ]
  },
  {
   "attachments": {},
   "cell_type": "markdown",
   "metadata": {},
   "source": [
    "Study of densities : $\\sigma_B(K, f)$ for a fixed forward $f$ and varying in strikes $K$"
   ]
  },
  {
   "attachments": {},
   "cell_type": "markdown",
   "metadata": {},
   "source": [
    "## Variations of alpha"
   ]
  },
  {
   "cell_type": "code",
   "execution_count": null,
   "metadata": {},
   "outputs": [],
   "source": [
    "alphas = [0.02, 0.05, 0.1]\n",
    "for alpha in alphas:\n",
    "    plot_figs(strikes=strikes, alpha=alpha)"
   ]
  },
  {
   "attachments": {},
   "cell_type": "markdown",
   "metadata": {},
   "source": [
    "As the volatility $\\alpha$ increases, the slope of the _backbone_ becomes steeper, as the quantity $\\frac{\\alpha}{f^{1-\\beta}}$ is responsible for it."
   ]
  },
  {
   "attachments": {},
   "cell_type": "markdown",
   "metadata": {},
   "source": [
    "## Variations of beta"
   ]
  },
  {
   "cell_type": "code",
   "execution_count": null,
   "metadata": {
    "id": "WE1yru6PhDxY"
   },
   "outputs": [],
   "source": [
    "betas = [0, 0.5, 1]\n",
    "for beta in betas:\n",
    "    plot_figs(strikes=strikes, beta=beta)"
   ]
  },
  {
   "attachments": {},
   "cell_type": "markdown",
   "metadata": {},
   "source": [
    "As described earlier, the _beta skew_ phenomenon is observable, especially for backbone slope."
   ]
  },
  {
   "attachments": {},
   "cell_type": "markdown",
   "metadata": {},
   "source": [
    "## Variations of volatility of volatility"
   ]
  },
  {
   "cell_type": "code",
   "execution_count": null,
   "metadata": {},
   "outputs": [],
   "source": [
    "vovols = [0, 0.5, 1]\n",
    "for vol_of_vol in vovols:\n",
    "    plot_figs(strikes=strikes, nu=vol_of_vol)"
   ]
  },
  {
   "attachments": {},
   "cell_type": "markdown",
   "metadata": {},
   "source": [
    "The volatility of volatility parameter increases with $\\lambda$ value, so it has an impact on both _vanna skew_ and _volga_ effect. Smile arises with greater values."
   ]
  },
  {
   "attachments": {},
   "cell_type": "markdown",
   "metadata": {},
   "source": [
    "## Variations of correlation rho"
   ]
  },
  {
   "cell_type": "code",
   "execution_count": null,
   "metadata": {},
   "outputs": [],
   "source": [
    "rhos = [-1, -0.5, 0, 0.5, 1]\n",
    "for rho in rhos:\n",
    "    plot_figs(strikes=strikes, rho=rho)"
   ]
  },
  {
   "attachments": {},
   "cell_type": "markdown",
   "metadata": {},
   "source": [
    "As it can be seen on the figures above, the values of correlation $\\rho$ between volatility and stock price should be kept as little as possible, as it can have a huge impact on implied volatility derivation and slope of the curve. As the volatility of volatility, it affects both the _vanna skew_ and _volga_ effect."
   ]
  },
  {
   "attachments": {},
   "cell_type": "markdown",
   "metadata": {
    "id": "M6OT-r_lrrFV"
   },
   "source": [
    "# Part II : Monte-Carlo simulations for european option pricing"
   ]
  },
  {
   "attachments": {},
   "cell_type": "markdown",
   "metadata": {
    "id": "vajnv9rVsGXW"
   },
   "source": [
    "The second part of this notebook is an implementation of a Monte-Carlo pricer for european options and its comparison with Hagan approximation."
   ]
  },
  {
   "attachments": {},
   "cell_type": "markdown",
   "metadata": {
    "id": "vWs1W2wtyFWr"
   },
   "source": [
    "This code is inspired from this [article](https://towardsdatascience.com/monte-carlo-pricing-in-python-eafc29e3b6c9). As a first step, we need to simulate the path followed by the stock price $(S_t)_{t \\geq 0}$, given by the Black-Scholes dynamics given at equation (2.2c).\n",
    "\n",
    "We simulate the path by geometric brownian motion. To be able to compare with Hagan approximation formula, we do not consider a drift term in our simulation, so the dynamic of geometric brownian motion is given by equation (2.3) :\n",
    "\n",
    "$$d\\hat{F}(t) = \\sigma \\hat{F}(t) dW_t \\quad \\text{with} \\quad dW_t \\sim \\mathcal{N} \\bigl( 0, \\sqrt{dt} \\bigl)$$\n",
    "\n",
    "\n",
    "with $\\sigma$ the volatility being constant, $dt$ is the time step and $dW_t$ a Brownian motion. As we perform a diffusion based on reference data, we use $\\sigma = \\sigma_{ATM} \\approx 21\\%$. For simplification purposes, we consider the settlement date at the origin of time and the discount factor such as $D(0)=1$. For each simulated path, the payoff of the call and put options are defined as before. The option price can be calculated by simulating $n$ different paths and averaging the payoffs of all paths. For a detailed description please refer to Hull, *Options, futures, and other derivatives, 8th Edition,* 2012, p. 446 ff.\n",
    "\n",
    "The following code defines an option pricing formula using Monte Carlo simulation."
   ]
  },
  {
   "cell_type": "code",
   "execution_count": null,
   "metadata": {
    "id": "YrhgGyHGmiGa",
    "scrolled": true
   },
   "outputs": [],
   "source": [
    "def MonteCarloCallPricing(K: float, paths: float = 100, initial_price: float = reference_data.forward, \n",
    "                          volatility: float = reference_data.atm_vol, dt: float = 1/365,\n",
    "                          t_ex: float = reference_data.maturity, model: str = \"BlackScholes\") -> float:\n",
    "    price_paths: List[List[float]] = []\n",
    "    # Generate a set of sample paths\n",
    "    for i in range(0, paths):\n",
    "        price_paths.append(GeometricBrownianMotion(initial_price = initial_price,\n",
    "                                                   volatility = volatility,\n",
    "                                                   dt = dt,\n",
    "                                                   t_ex = t_ex,\n",
    "                                                   model = model).prices)\n",
    "    call_payoffs = []\n",
    "    ec: European_Call_Payoff = European_Call_Payoff(strike=K)\n",
    "    for price_path in price_paths:\n",
    "        call_payoffs.append(ec.get_payoff(price_path[-1])) # We get the last stock price in the series generated by GBM to determin the payoff and discount it by one year\n",
    "    return np.average(call_payoffs)\n",
    "\n",
    "def MonteCarloPutPricing(K: float, paths: float = 100, initial_price: float = reference_data.forward,\n",
    "                         volatility: float = reference_data.atm_vol, dt: float = 1/365,\n",
    "                         t_ex: float = reference_data.maturity, model: str = \"BlackScholes\") -> float:\n",
    "    price_paths: List[List[float]] = []\n",
    "    # Generate a set of sample paths\n",
    "    for i in range(0, paths):\n",
    "        price_paths.append(GeometricBrownianMotion(initial_price = initial_price,\n",
    "                                                   volatility = volatility,\n",
    "                                                   dt = dt,\n",
    "                                                   t_ex = t_ex,\n",
    "                                                   model = model).prices)\n",
    "    put_payoffs = []\n",
    "    ep: European_Put_Payoff = European_Put_Payoff(strike=K)\n",
    "    for price_path in price_paths:\n",
    "        put_payoffs.append(ep.get_payoff(price_path[-1])) # We get the last stock price in the series generated by GBM to determin the payoff and discount it by one year\n",
    "    return np.average(put_payoffs)"
   ]
  },
  {
   "attachments": {},
   "cell_type": "markdown",
   "metadata": {
    "id": "-ElQUWrhDA8P"
   },
   "source": [
    "Let's compare the previous result with the closed-form approximation formula from Hagan in SABR model. It is given respectively by equations (2.16a), (2.16b) and (2.16c) in the original article and is equal to Black's formula :\n",
    "\n",
    "$$V_{call} = D(t_{set})(f\\mathcal{N}(d_1)-K\\mathcal{N}(d_2)) \\\\\n",
    "V_{put} = V_{call} + D(t_{set})[K-f]$$\n",
    "\n",
    "with\n",
    "\n",
    "$$d_{1,2} = \\frac{\\log{\\frac{K}{f}} \\pm \\frac{1}{2} \\sigma^2 t_{ex}}{\\sigma \\sqrt{t_{ex}}}$$\n",
    "\n",
    "This time, the implied volatility $\\sigma_B$ is therefore derived from SABR model. We preserve the same simplification purposes and we consider as before $t_{set} = 0$ and $D(0)=1$."
   ]
  },
  {
   "cell_type": "code",
   "execution_count": null,
   "metadata": {
    "colab": {
     "base_uri": "https://localhost:8080/"
    },
    "executionInfo": {
     "elapsed": 235,
     "status": "ok",
     "timestamp": 1687639282920,
     "user": {
      "displayName": "Ange VALLI",
      "userId": "07174695979630093145"
     },
     "user_tz": -120
    },
    "id": "sXb54od9HZSx",
    "outputId": "9d137be0-e970-4a98-d25a-1ae73a7269d7"
   },
   "outputs": [],
   "source": [
    "strikes = [0.02, 0.03, 0.04]\n",
    "\n",
    "tic = dt.datetime.now()\n",
    "\n",
    "for strike in strikes :\n",
    "    print(\"Strike : {}\".format(strike))\n",
    "    \n",
    "    # Black-Scholes Pricing\n",
    "    tic = dt.datetime.now()\n",
    "    blackeuropeanpricer = BlackEuropeanPricing(K=strike)\n",
    "    call_price = blackeuropeanpricer.Black_call_price()\n",
    "    print(\"Call price: {}\".format(call_price))\n",
    "    put_price = blackeuropeanpricer.Black_put_price()\n",
    "    print(\"Put price: {}\".format(put_price))\n",
    "    print(\"Runtime Black-Scholes Pricing:  {}\".format(dt.datetime.now() - tic))\n",
    "    \n",
    "    # SABR Pricing\n",
    "    tic = dt.datetime.now()\n",
    "    SABR_implied_vol = SABR_ImpliedVol(K=strike).Implied_Vol()\n",
    "    blackeuropeanpricer = BlackEuropeanPricing(K=strike, implied_volatility=SABR_implied_vol)\n",
    "    call_price = blackeuropeanpricer.Black_call_price()\n",
    "    print(\"Call price: {}\".format(call_price))\n",
    "    put_price = blackeuropeanpricer.Black_put_price()\n",
    "    print(\"Put price: {}\".format(put_price))\n",
    "    print(\"Runtime SABR Pricing:  {}\".format(dt.datetime.now() - tic))\n",
    "    \n",
    "    # Monte-Carlo Pricing Black-Scholes model\n",
    "    tic = dt.datetime.now()\n",
    "    call_price = MonteCarloCallPricing(K=strike)\n",
    "    print(\"Call price: {}\".format(call_price))\n",
    "    put_price = MonteCarloPutPricing(K=strike)\n",
    "    print(\"Put price: {}\".format(put_price))\n",
    "    print(\"Runtime Monte-Carlo Black-Scholes Pricing:  {}\".format(dt.datetime.now() - tic))\n",
    "    \n",
    "    # Monte-Carlo Pricing SABR model\n",
    "    tic = dt.datetime.now()\n",
    "    call_price = MonteCarloCallPricing(K=strike, model=\"SABR\")\n",
    "    print(\"Call price: {}\".format(call_price))\n",
    "    put_price = MonteCarloPutPricing(K=strike, model=\"SABR\")\n",
    "    print(\"Put price: {}\".format(put_price))\n",
    "    print(\"Runtime Monte-Carlo SABR Pricing:  {}\".format(dt.datetime.now() - tic))\n",
    "    print(\"\\n\")"
   ]
  },
  {
   "attachments": {},
   "cell_type": "markdown",
   "metadata": {},
   "source": [
    "The SABR model is faster than a Monte-Carlo simulation for European options pricing and is more accurate, specifically for capturing volatility smile movements, so it presents more advantages than the classic Monte-Carlo approach with constant volatility from Black's equation. However, the SABR model presents more parameters to define and to be careful of, which involves a higher cost of managing risk, as it is mentioned in the article. In practice, we also notice to obtain greater payoffs with Monte Carlo pricing rather than SABR Model."
   ]
  },
  {
   "attachments": {},
   "cell_type": "markdown",
   "metadata": {
    "id": "6NyanWk6wzhN"
   },
   "source": [
    "In addition, the article [On a one time-step Monte Carlo simulation approach of the SABR model: Application to European options](https://www.sciencedirect.com/science/article/abs/pii/S0096300316305252) provides introduces a method to use Monte-Carlo simulation in order to compensate the approximations made in Hagan formula, particularly due to the correlation between volatility and stock price "
   ]
  }
 ],
 "metadata": {
  "colab": {
   "authorship_tag": "ABX9TyP6EVLv4Fli21GgfCTd667A",
   "provenance": []
  },
  "kernelspec": {
   "display_name": "Python 3 (ipykernel)",
   "language": "python",
   "name": "python3"
  },
  "language_info": {
   "codemirror_mode": {
    "name": "ipython",
    "version": 3
   },
   "file_extension": ".py",
   "mimetype": "text/x-python",
   "name": "python",
   "nbconvert_exporter": "python",
   "pygments_lexer": "ipython3",
   "version": "3.10.12"
  }
 },
 "nbformat": 4,
 "nbformat_minor": 1
}
